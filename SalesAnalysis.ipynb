{
 "cells": [
  {
   "cell_type": "markdown",
   "metadata": {},
   "source": [
    "# Analyzing Sales Data\n",
    "\n",
    "---\n",
    "\n"
   ]
  },
  {
   "cell_type": "markdown",
   "metadata": {},
   "source": [
    "### Step 1: Import Necessary Libraries\n",
    "We begin by importing the necessary Python libraries for data manipulation and visualization."
   ]
  },
  {
   "cell_type": "code",
   "execution_count": 1,
   "metadata": {},
   "outputs": [],
   "source": [
    "# Import necessary libraries\n",
    "import pandas as pd\n",
    "import numpy as np\n",
    "import matplotlib.pyplot as plt\n",
    "import seaborn as sns\n",
    "\n",
    "# Set plot style\n",
    "sns.set(style=\"whitegrid\")"
   ]
  },
  {
   "cell_type": "markdown",
   "metadata": {},
   "source": [
    "### Step 2: Load and Inspect the Data\n",
    "Next, we load the `Features`, `Sales`, and `Stores` datasets and inspect the first few rows to understand the structure of the data."
   ]
  },
  {
   "cell_type": "code",
   "execution_count": 2,
   "metadata": {},
   "outputs": [
    {
     "name": "stdout",
     "output_type": "stream",
     "text": [
      "   Store        Date  Temperature  Fuel_Price  MarkDown1  MarkDown2  \\\n",
      "0      1  05/02/2010        42.31       2.572        NaN        NaN   \n",
      "1      1  12/02/2010        38.51       2.548        NaN        NaN   \n",
      "2      1  19/02/2010        39.93       2.514        NaN        NaN   \n",
      "3      1  26/02/2010        46.63       2.561        NaN        NaN   \n",
      "4      1  05/03/2010        46.50       2.625        NaN        NaN   \n",
      "\n",
      "   MarkDown3  MarkDown4  MarkDown5         CPI  Unemployment  IsHoliday  \n",
      "0        NaN        NaN        NaN  211.096358         8.106      False  \n",
      "1        NaN        NaN        NaN  211.242170         8.106       True  \n",
      "2        NaN        NaN        NaN  211.289143         8.106      False  \n",
      "3        NaN        NaN        NaN  211.319643         8.106      False  \n",
      "4        NaN        NaN        NaN  211.350143         8.106      False      Store  Dept        Date  Weekly_Sales  IsHoliday\n",
      "0      1     1  05/02/2010      24924.50      False\n",
      "1      1     1  12/02/2010      46039.49       True\n",
      "2      1     1  19/02/2010      41595.55      False\n",
      "3      1     1  26/02/2010      19403.54      False\n",
      "4      1     1  05/03/2010      21827.90      False    Store Type    Size\n",
      "0      1    A  151315\n",
      "1      2    A  202307\n",
      "2      3    B   37392\n",
      "3      4    A  205863\n",
      "4      5    B   34875\n"
     ]
    },
    {
     "data": {
      "text/plain": [
       "(      Store        Date  Temperature  Fuel_Price  MarkDown1  MarkDown2  \\\n",
       " 1452      8  05/07/2013        76.18       3.422    6801.88    1592.93   \n",
       " 5819     32  28/06/2013        75.37       3.691    5235.17    1221.96   \n",
       " 5898     33  08/07/2011        96.44       3.793        NaN        NaN   \n",
       " 5495     31  08/10/2010        65.76       2.633        NaN        NaN   \n",
       " 7695     43  28/01/2011        44.98       3.010        NaN        NaN   \n",
       " 2405     14  05/11/2010        45.65       2.917        NaN        NaN   \n",
       " 6273     35  23/09/2011        63.61       3.711        NaN        NaN   \n",
       " 1307      8  24/09/2010        72.21       2.624        NaN        NaN   \n",
       " 2736     16  19/03/2010        33.45       2.692        NaN        NaN   \n",
       " 5833     33  09/04/2010        68.43       3.004        NaN        NaN   \n",
       " \n",
       "       MarkDown3  MarkDown4  MarkDown5         CPI  Unemployment  IsHoliday  \n",
       " 1452     880.32    5097.59    1717.64         NaN           NaN      False  \n",
       " 5819      36.70    3524.09    2824.23         NaN           NaN      False  \n",
       " 5898        NaN        NaN        NaN  129.112500         8.442      False  \n",
       " 5495        NaN        NaN        NaN  211.404491         8.163      False  \n",
       " 7695        NaN        NaN        NaN  204.178968        10.398      False  \n",
       " 2405        NaN        NaN        NaN  182.946365         8.724      False  \n",
       " 6273        NaN        NaN        NaN  140.327250         8.684      False  \n",
       " 1307        NaN        NaN        NaN  214.954780         6.315      False  \n",
       " 2736        NaN        NaN        NaN  189.734262         7.039      False  \n",
       " 5833        NaN        NaN        NaN  126.601903         9.849      False  ,\n",
       "         Store  Dept        Date  Weekly_Sales  IsHoliday\n",
       " 253916     26    67  22/04/2011       7164.05      False\n",
       " 403701     43    91  23/09/2011      31209.56      False\n",
       " 177291     19     1  03/02/2012      19033.38      False\n",
       " 194132     20    55  30/09/2011      11430.15      False\n",
       " 140702     15    20  19/11/2010       3973.28      False\n",
       " 22964       3    19  12/08/2011        792.94      False\n",
       " 116110     12    83  11/03/2011        158.87      False\n",
       " 151855     16    29  18/06/2010       1906.94      False\n",
       " 110776     12    22  10/12/2010      10106.06      False\n",
       " 374262     40    26  12/11/2010       4601.38      False,\n",
       "     Store Type    Size\n",
       " 18     19    A  203819\n",
       " 25     26    A  152513\n",
       " 11     12    B  112238\n",
       " 16     17    B   93188\n",
       " 2       3    B   37392\n",
       " 4       5    B   34875\n",
       " 13     14    A  200898\n",
       " 12     13    A  219622\n",
       " 7       8    A  155078\n",
       " 35     36    A   39910)"
      ]
     },
     "execution_count": 2,
     "metadata": {},
     "output_type": "execute_result"
    }
   ],
   "source": [
    "# Load the datasets\n",
    "features_df = pd.read_csv('Features data set.csv')\n",
    "sales_df = pd.read_csv('sales data-set.csv')\n",
    "stores_df = pd.read_csv('stores data-set.csv')\n",
    "\n",
    "# Display first few rows of each dataset\n",
    "print(features_df.head(), sales_df.head(), stores_df.head())\n",
    "# Display n=10 random rows of each dataset\n",
    "features_df.sample(n=10), sales_df.sample(n=10), stores_df.sample(n=10)"
   ]
  },
  {
   "cell_type": "markdown",
   "metadata": {},
   "source": [
    "### Step 3: Data Cleaning\n",
    "We will check for missing data in the datasets and apply cleaning procedures. For instance, we will fill missing markdown values with 0 and forward-fill missing economic indicators like CPI and unemployment."
   ]
  },
  {
   "cell_type": "code",
   "execution_count": 3,
   "metadata": {},
   "outputs": [
    {
     "name": "stdout",
     "output_type": "stream",
     "text": [
      "Features dataset missing values:\n",
      "Store              0\n",
      "Date               0\n",
      "Temperature        0\n",
      "Fuel_Price         0\n",
      "MarkDown1       4158\n",
      "MarkDown2       5269\n",
      "MarkDown3       4577\n",
      "MarkDown4       4726\n",
      "MarkDown5       4140\n",
      "CPI              585\n",
      "Unemployment     585\n",
      "IsHoliday          0\n",
      "dtype: int64\n",
      "\n",
      "Sales dataset missing values:\n",
      "Store           0\n",
      "Dept            0\n",
      "Date            0\n",
      "Weekly_Sales    0\n",
      "IsHoliday       0\n",
      "dtype: int64\n",
      "\n",
      "Stores dataset missing values:\n",
      "Store    0\n",
      "Type     0\n",
      "Size     0\n",
      "dtype: int64\n"
     ]
    }
   ],
   "source": [
    "# Checking for missing data in all datasets\n",
    "print(\"Features dataset missing values:\")\n",
    "print(features_df.isnull().sum())\n",
    "print(\"\\nSales dataset missing values:\")\n",
    "print(sales_df.isnull().sum())\n",
    "print(\"\\nStores dataset missing values:\")\n",
    "print(stores_df.isnull().sum())\n",
    "\n",
    "# Handle missing values\n",
    "# Fill missing markdown values with 0\n",
    "features_df[['MarkDown1', 'MarkDown2', 'MarkDown3', 'MarkDown4', 'MarkDown5']] = features_df[['MarkDown1', 'MarkDown2', 'MarkDown3', 'MarkDown4', 'MarkDown5']].fillna(0)\n",
    "\n",
    "# Forward fill missing CPI and Unemployment data without inplace parameter to avoid warnings\n",
    "features_df['CPI'] = features_df['CPI'].ffill()\n",
    "features_df['Unemployment'] = features_df['Unemployment'].ffill()\n",
    "\n",
    "# Convert 'Date' columns to datetime format in both features and sales datasets\n",
    "features_df['Date'] = pd.to_datetime(features_df['Date'], format='%d/%m/%Y')\n",
    "sales_df['Date'] = pd.to_datetime(sales_df['Date'], format='%d/%m/%Y')\n"
   ]
  },
  {
   "cell_type": "markdown",
   "metadata": {},
   "source": [
    "### Step 4: Merge the Datasets\n",
    "We merge the `Sales`, `Features`, and `Stores` datasets on the common columns: `Store`, `Date`, and `IsHoliday`. This combined dataset will allow us to perform our analysis across multiple variables."
   ]
  },
  {
   "cell_type": "code",
   "execution_count": 4,
   "metadata": {},
   "outputs": [
    {
     "data": {
      "text/html": [
       "<div>\n",
       "<style scoped>\n",
       "    .dataframe tbody tr th:only-of-type {\n",
       "        vertical-align: middle;\n",
       "    }\n",
       "\n",
       "    .dataframe tbody tr th {\n",
       "        vertical-align: top;\n",
       "    }\n",
       "\n",
       "    .dataframe thead th {\n",
       "        text-align: right;\n",
       "    }\n",
       "</style>\n",
       "<table border=\"1\" class=\"dataframe\">\n",
       "  <thead>\n",
       "    <tr style=\"text-align: right;\">\n",
       "      <th></th>\n",
       "      <th>Store</th>\n",
       "      <th>Dept</th>\n",
       "      <th>Date</th>\n",
       "      <th>Weekly_Sales</th>\n",
       "      <th>IsHoliday</th>\n",
       "      <th>Temperature</th>\n",
       "      <th>Fuel_Price</th>\n",
       "      <th>MarkDown1</th>\n",
       "      <th>MarkDown2</th>\n",
       "      <th>MarkDown3</th>\n",
       "      <th>MarkDown4</th>\n",
       "      <th>MarkDown5</th>\n",
       "      <th>CPI</th>\n",
       "      <th>Unemployment</th>\n",
       "      <th>Type</th>\n",
       "      <th>Size</th>\n",
       "    </tr>\n",
       "  </thead>\n",
       "  <tbody>\n",
       "    <tr>\n",
       "      <th>0</th>\n",
       "      <td>1</td>\n",
       "      <td>1</td>\n",
       "      <td>2010-02-05</td>\n",
       "      <td>24924.50</td>\n",
       "      <td>False</td>\n",
       "      <td>42.31</td>\n",
       "      <td>2.572</td>\n",
       "      <td>0.0</td>\n",
       "      <td>0.0</td>\n",
       "      <td>0.0</td>\n",
       "      <td>0.0</td>\n",
       "      <td>0.0</td>\n",
       "      <td>211.096358</td>\n",
       "      <td>8.106</td>\n",
       "      <td>A</td>\n",
       "      <td>151315</td>\n",
       "    </tr>\n",
       "    <tr>\n",
       "      <th>1</th>\n",
       "      <td>1</td>\n",
       "      <td>1</td>\n",
       "      <td>2010-02-12</td>\n",
       "      <td>46039.49</td>\n",
       "      <td>True</td>\n",
       "      <td>38.51</td>\n",
       "      <td>2.548</td>\n",
       "      <td>0.0</td>\n",
       "      <td>0.0</td>\n",
       "      <td>0.0</td>\n",
       "      <td>0.0</td>\n",
       "      <td>0.0</td>\n",
       "      <td>211.242170</td>\n",
       "      <td>8.106</td>\n",
       "      <td>A</td>\n",
       "      <td>151315</td>\n",
       "    </tr>\n",
       "    <tr>\n",
       "      <th>2</th>\n",
       "      <td>1</td>\n",
       "      <td>1</td>\n",
       "      <td>2010-02-19</td>\n",
       "      <td>41595.55</td>\n",
       "      <td>False</td>\n",
       "      <td>39.93</td>\n",
       "      <td>2.514</td>\n",
       "      <td>0.0</td>\n",
       "      <td>0.0</td>\n",
       "      <td>0.0</td>\n",
       "      <td>0.0</td>\n",
       "      <td>0.0</td>\n",
       "      <td>211.289143</td>\n",
       "      <td>8.106</td>\n",
       "      <td>A</td>\n",
       "      <td>151315</td>\n",
       "    </tr>\n",
       "    <tr>\n",
       "      <th>3</th>\n",
       "      <td>1</td>\n",
       "      <td>1</td>\n",
       "      <td>2010-02-26</td>\n",
       "      <td>19403.54</td>\n",
       "      <td>False</td>\n",
       "      <td>46.63</td>\n",
       "      <td>2.561</td>\n",
       "      <td>0.0</td>\n",
       "      <td>0.0</td>\n",
       "      <td>0.0</td>\n",
       "      <td>0.0</td>\n",
       "      <td>0.0</td>\n",
       "      <td>211.319643</td>\n",
       "      <td>8.106</td>\n",
       "      <td>A</td>\n",
       "      <td>151315</td>\n",
       "    </tr>\n",
       "    <tr>\n",
       "      <th>4</th>\n",
       "      <td>1</td>\n",
       "      <td>1</td>\n",
       "      <td>2010-03-05</td>\n",
       "      <td>21827.90</td>\n",
       "      <td>False</td>\n",
       "      <td>46.50</td>\n",
       "      <td>2.625</td>\n",
       "      <td>0.0</td>\n",
       "      <td>0.0</td>\n",
       "      <td>0.0</td>\n",
       "      <td>0.0</td>\n",
       "      <td>0.0</td>\n",
       "      <td>211.350143</td>\n",
       "      <td>8.106</td>\n",
       "      <td>A</td>\n",
       "      <td>151315</td>\n",
       "    </tr>\n",
       "  </tbody>\n",
       "</table>\n",
       "</div>"
      ],
      "text/plain": [
       "   Store  Dept       Date  Weekly_Sales  IsHoliday  Temperature  Fuel_Price  \\\n",
       "0      1     1 2010-02-05      24924.50      False        42.31       2.572   \n",
       "1      1     1 2010-02-12      46039.49       True        38.51       2.548   \n",
       "2      1     1 2010-02-19      41595.55      False        39.93       2.514   \n",
       "3      1     1 2010-02-26      19403.54      False        46.63       2.561   \n",
       "4      1     1 2010-03-05      21827.90      False        46.50       2.625   \n",
       "\n",
       "   MarkDown1  MarkDown2  MarkDown3  MarkDown4  MarkDown5         CPI  \\\n",
       "0        0.0        0.0        0.0        0.0        0.0  211.096358   \n",
       "1        0.0        0.0        0.0        0.0        0.0  211.242170   \n",
       "2        0.0        0.0        0.0        0.0        0.0  211.289143   \n",
       "3        0.0        0.0        0.0        0.0        0.0  211.319643   \n",
       "4        0.0        0.0        0.0        0.0        0.0  211.350143   \n",
       "\n",
       "   Unemployment Type    Size  \n",
       "0         8.106    A  151315  \n",
       "1         8.106    A  151315  \n",
       "2         8.106    A  151315  \n",
       "3         8.106    A  151315  \n",
       "4         8.106    A  151315  "
      ]
     },
     "execution_count": 4,
     "metadata": {},
     "output_type": "execute_result"
    }
   ],
   "source": [
    "# Merge the datasets\n",
    "merged_df = pd.merge(sales_df, features_df, on=['Store', 'Date', 'IsHoliday'], how='left')\n",
    "merged_df = pd.merge(merged_df, stores_df, on='Store', how='left')\n",
    "\n",
    "# Display first few rows of the merged dataset\n",
    "merged_df.head()"
   ]
  },
  {
   "cell_type": "markdown",
   "metadata": {},
   "source": [
    "### Step 5: Exploratory Data Analysis (EDA)\n",
    "We will now perform exploratory data analysis to identify sales trends, compare holiday vs. non-holiday sales, and analyze the impact of markdowns on sales performance."
   ]
  },
  {
   "cell_type": "markdown",
   "metadata": {},
   "source": [
    "  ### **1. Total sales over time**\n"
   ]
  },
  {
   "cell_type": "code",
   "execution_count": 5,
   "metadata": {},
   "outputs": [
    {
     "ename": "NameError",
     "evalue": "name 'weekly_sales' is not defined",
     "output_type": "error",
     "traceback": [
      "\u001b[1;31m---------------------------------------------------------------------------\u001b[0m",
      "\u001b[1;31mNameError\u001b[0m                                 Traceback (most recent call last)",
      "Cell \u001b[1;32mIn[5], line 2\u001b[0m\n\u001b[0;32m      1\u001b[0m \u001b[38;5;66;03m# Find the date with the highest total weekly sales\u001b[39;00m\n\u001b[1;32m----> 2\u001b[0m max_sales \u001b[38;5;241m=\u001b[39m weekly_sales[\u001b[38;5;124m'\u001b[39m\u001b[38;5;124mWeekly_Sales\u001b[39m\u001b[38;5;124m'\u001b[39m]\u001b[38;5;241m.\u001b[39mmax()\n\u001b[0;32m      3\u001b[0m highest_sales_date \u001b[38;5;241m=\u001b[39m weekly_sales[weekly_sales[\u001b[38;5;124m'\u001b[39m\u001b[38;5;124mWeekly_Sales\u001b[39m\u001b[38;5;124m'\u001b[39m] \u001b[38;5;241m==\u001b[39m max_sales]\n\u001b[0;32m      5\u001b[0m \u001b[38;5;66;03m# Print the date with the highest sales\u001b[39;00m\n",
      "\u001b[1;31mNameError\u001b[0m: name 'weekly_sales' is not defined"
     ]
    }
   ],
   "source": [
    "# Find the date with the highest total weekly sales\n",
    "max_sales = weekly_sales['Weekly_Sales'].max()\n",
    "highest_sales_date = weekly_sales[weekly_sales['Weekly_Sales'] == max_sales]\n",
    "\n",
    "# Print the date with the highest sales\n",
    "print(f\"Date with the Highest Sales: {highest_sales_date['Date'].values[0]}\")\n",
    "print(f\"Highest Total Weekly Sales: ${max_sales:.2f}\")\n",
    "\n",
    "# Group by Date to calculate total weekly sales\n",
    "weekly_sales = merged_df.groupby('Date')['Weekly_Sales'].sum().reset_index()\n",
    "\n",
    "# Plot total weekly sales over time\n",
    "plt.figure(figsize=(14, 6))\n",
    "sns.lineplot(x='Date', y='Weekly_Sales', data=weekly_sales, marker='o', color='b', linewidth=2)\n",
    "\n",
    "# Improve the graph\n",
    "plt.title('Total Weekly Sales Over Time', fontsize=16)\n",
    "plt.xlabel('Date', fontsize=14)\n",
    "plt.ylabel('Total Weekly Sales', fontsize=14)\n",
    "plt.xticks(rotation=45)\n",
    "plt.grid(True, linestyle='--', alpha=0.7)  # Add gridlines\n",
    "plt.tight_layout()  # Adjust layout to prevent clipping\n",
    "plt.show()"
   ]
  },
  {
   "cell_type": "markdown",
   "metadata": {},
   "source": [
    "  ### **2. Holiday vs Non-Holiday Sales**\n"
   ]
  },
  {
   "cell_type": "code",
   "execution_count": null,
   "metadata": {},
   "outputs": [],
   "source": [
    "# Group by IsHoliday to calculate average weekly sales\n",
    "holiday_sales = merged_df.groupby('IsHoliday')['Weekly_Sales'].mean().reset_index()\n",
    "\n",
    "# Calculate average sales for holiday and non-holiday\n",
    "avg_holiday_sales = holiday_sales.loc[holiday_sales['IsHoliday'] == 1, 'Weekly_Sales'].values[0]\n",
    "avg_non_holiday_sales = holiday_sales.loc[holiday_sales['IsHoliday'] == 0, 'Weekly_Sales'].values[0]\n",
    "\n",
    "# Calculate percentage difference\n",
    "percentage_difference = ((avg_holiday_sales - avg_non_holiday_sales) / avg_non_holiday_sales) * 100\n",
    "\n",
    "# Print the results\n",
    "print(f\"Average Weekly Sales on Holidays: ${avg_holiday_sales:,.2f}\")\n",
    "print(f\"Average Weekly Sales on Non-Holidays: ${avg_non_holiday_sales:,.2f}\")\n",
    "print(f\"Percentage Increase in Sales During Holidays: {percentage_difference:.2f}%\")\n",
    "\n",
    "# Plot average sales during holiday vs non-holiday weeks\n",
    "plt.figure(figsize=(8, 5))\n",
    "sns.barplot(x='IsHoliday', y='Weekly_Sales', data=holiday_sales, hue='IsHoliday', palette=\"Set2\",legend=False)\n",
    "plt.title('Average Weekly Sales: Holiday vs Non-Holiday Weeks')\n",
    "plt.xlabel('Is Holiday')\n",
    "plt.ylabel('Average Weekly Sales')\n",
    "plt.show()\n"
   ]
  },
  {
   "cell_type": "markdown",
   "metadata": {},
   "source": [
    "### Step 6: Analyze the Impact of Markdowns and External Factors\n",
    "Next, we will analyze how promotional markdowns and external factors like temperature and fuel prices impact weekly sales."
   ]
  },
  {
   "cell_type": "markdown",
   "metadata": {},
   "source": [
    "  ### **3. Impact of Markdown on Sales**\n"
   ]
  },
  {
   "cell_type": "code",
   "execution_count": null,
   "metadata": {},
   "outputs": [],
   "source": [
    "# Calculate average weekly sales for weeks with and without markdowns\n",
    "sales_with_markdown = merged_df[merged_df['Total_MarkDown'] > 0]['Weekly_Sales'].mean()\n",
    "sales_without_markdown = merged_df[merged_df['Total_MarkDown'] == 0]['Weekly_Sales'].mean()\n",
    "\n",
    "# Calculate the percentage increase in sales due to markdowns\n",
    "markdown_impact_percentage = ((sales_with_markdown - sales_without_markdown) / sales_without_markdown) * 100\n",
    "\n",
    "# Print the results\n",
    "print(f\"Average Weekly Sales with Markdowns: ${sales_with_markdown:.2f}\")\n",
    "print(f\"Average Weekly Sales without Markdowns: ${sales_without_markdown:.2f}\")\n",
    "print(f\"Percentage Increase in Sales due to Markdowns: {markdown_impact_percentage:.2f}%\")\n",
    "\n",
    "markdown_cols = ['MarkDown1', 'MarkDown2', 'MarkDown3', 'MarkDown4', 'MarkDown5']\n",
    "merged_df['Total_MarkDown'] = merged_df[markdown_cols].sum(axis=1)\n",
    "\n",
    "# Analyze the relationship between markdowns and sales\n",
    "plt.figure(figsize=(10, 6))\n",
    "sns.scatterplot(x='Total_MarkDown', y='Weekly_Sales', data=merged_df)\n",
    "plt.title('Impact of Total Markdown on Weekly Sales')\n",
    "plt.xlabel('Total Markdown')\n",
    "plt.ylabel('Weekly Sales')\n",
    "plt.show()"
   ]
  },
  {
   "cell_type": "markdown",
   "metadata": {},
   "source": [
    "  ### **4. Impact of external factors on sales (Temperature, Fuel Price)**\n"
   ]
  },
  {
   "cell_type": "markdown",
   "metadata": {},
   "source": [
    "**1. Sales vs. Temperature (Binned)**"
   ]
  },
  {
   "cell_type": "code",
   "execution_count": null,
   "metadata": {},
   "outputs": [],
   "source": [
    "# Calculate average weekly sales for each temperature range\n",
    "temp_sales = merged_df.groupby('Temp_Binned', observed=False)['Weekly_Sales'].mean().reset_index()\n",
    "\n",
    "# Find the temperature range with the highest sales\n",
    "max_sales_temp = temp_sales['Weekly_Sales'].max()\n",
    "highest_temp_range = temp_sales[temp_sales['Weekly_Sales'] == max_sales_temp]\n",
    "\n",
    "# Print the temperature range with the highest sales\n",
    "print(f\"Temperature Range with the Highest Sales: {highest_temp_range['Temp_Binned'].values[0]}\")\n",
    "print(f\"Highest Average Weekly Sales: ${max_sales_temp:.2f}\")\n",
    "\n",
    "# Bin temperature into categories for clearer visualization\n",
    "merged_df['Temp_Binned'] = pd.cut(merged_df['Temperature'], bins=5, labels=['Very Cold', 'Cold', 'Moderate', 'Warm', 'Hot'])\n",
    "\n",
    "# Plot average sales by temperature bins\n",
    "plt.figure(figsize=(14, 6))\n",
    "sns.barplot(x='Temp_Binned', y='Weekly_Sales', data=merged_df, hue='Temp_Binned', palette='coolwarm', legend=False)\n",
    "plt.title('Average Weekly Sales by Temperature Range')\n",
    "plt.xlabel('Temperature Range')\n",
    "plt.ylabel('Average Weekly Sales')\n",
    "plt.show()"
   ]
  },
  {
   "cell_type": "markdown",
   "metadata": {},
   "source": [
    " **2. Sales vs. Fuel Price (Binned)**"
   ]
  },
  {
   "cell_type": "code",
   "execution_count": null,
   "metadata": {},
   "outputs": [],
   "source": [
    "# Calculate average weekly sales for each fuel price range\n",
    "fuel_sales = merged_df.groupby('Fuel_Binned', observed=False)['Weekly_Sales'].mean().reset_index()\n",
    "\n",
    "# Find the fuel price range with the highest sales\n",
    "max_sales = fuel_sales['Weekly_Sales'].max()\n",
    "highest_fuel_range = fuel_sales[fuel_sales['Weekly_Sales'] == max_sales]\n",
    "\n",
    "# Print the fuel range with the highest sales\n",
    "print(f\"Fuel Price Range with the Highest Sales: {highest_fuel_range['Fuel_Binned'].values[0]}\")\n",
    "print(f\"Highest Average Weekly Sales: ${max_sales:.2f}\")\n",
    "\n",
    "# Bin fuel prices into categories for clearer visualization\n",
    "merged_df['Fuel_Binned'] = pd.cut(merged_df['Fuel_Price'], bins=5, labels=['Very Low', 'Low', 'Moderate', 'High', 'Very High'])\n",
    "\n",
    "\n",
    "# Plot average sales by fuel price bins\n",
    "plt.figure(figsize=(14, 6))\n",
    "sns.barplot(x='Fuel_Binned', y='Weekly_Sales', data=merged_df, hue='Fuel_Binned', palette='viridis', legend=False)\n",
    "plt.title('Average Weekly Sales by Fuel Price Range')\n",
    "plt.xlabel('Fuel Price Range')\n",
    "plt.ylabel('Average Weekly Sales')\n",
    "plt.show()"
   ]
  },
  {
   "cell_type": "markdown",
   "metadata": {},
   "source": [
    "## **Conclusion/FIndings:**"
   ]
  },
  {
   "cell_type": "markdown",
   "metadata": {},
   "source": [
    "The analysis conclude Key  findings and recommendations for the future of the sales:\n",
    "1.  ***Holiday Sales*:**: Sales increase by 7.13% during holidays.\n",
    "2.  ***Markdown Impacts*:**: Sales rise by 1.92% during promotional weeks.\n",
    "3.  ***Temperature Effect***: Highest sales occur in \"Moderate\" temperature conditions.\n",
    "4.  ***Fuel Prices***: low fuel prices yield the highest sales.\n",
    "\n",
    "## **Recommendations for Future Sales Strategies:**\n",
    "\n",
    "1.  ***Holiday Sales*:**: Plan and prepare for holiday sales in advance, focusing on  popular products. \n",
    "2.  ***Markdown Impacts*:**: Implement strategic markdowns during promotional weeks to boost sales.like offering discounts on high-demand products.\n",
    "3.  ***Temperature Effect***: Optimize product placement and marketing strategies to target customers during \"Moderate\" temperature conditions.\n",
    "4.  ***Fuel Prices***: Monitor fuel prices and adjust pricing strategies accordingly to maximize sales during low fuel.\n",
    "\n",
    "\n"
   ]
  }
 ],
 "metadata": {
  "kernelspec": {
   "display_name": "Python 3 (ipykernel)",
   "language": "python",
   "name": "python3"
  },
  "language_info": {
   "codemirror_mode": {
    "name": "ipython",
    "version": 3
   },
   "file_extension": ".py",
   "mimetype": "text/x-python",
   "name": "python",
   "nbconvert_exporter": "python",
   "pygments_lexer": "ipython3",
   "version": "3.12.7"
  }
 },
 "nbformat": 4,
 "nbformat_minor": 4
}
